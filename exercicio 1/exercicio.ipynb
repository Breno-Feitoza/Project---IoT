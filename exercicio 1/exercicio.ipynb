{
  "nbformat": 4,
  "nbformat_minor": 0,
  "metadata": {
    "colab": {
      "provenance": []
    },
    "kernelspec": {
      "name": "python3",
      "display_name": "Python 3"
    },
    "language_info": {
      "name": "python"
    }
  },
  "cells": [
    {
      "cell_type": "code",
      "execution_count": 13,
      "metadata": {
        "colab": {
          "base_uri": "https://localhost:8080/"
        },
        "id": "c0iHuUqBfBVe",
        "outputId": "555b85bc-f1b8-4653-8c8b-0d7f7879817e"
      },
      "outputs": [
        {
          "output_type": "stream",
          "name": "stdout",
          "text": [
            "Requirement already satisfied: pyspark in /usr/local/lib/python3.11/dist-packages (3.5.5)\n",
            "Requirement already satisfied: py4j==0.10.9.7 in /usr/local/lib/python3.11/dist-packages (from pyspark) (0.10.9.7)\n"
          ]
        }
      ],
      "source": [
        "!pip install pyspark"
      ]
    },
    {
      "cell_type": "code",
      "source": [
        "from pyspark.sql import SparkSession\n",
        "from pyspark.sql.functions import col\n",
        "\n",
        "# Criar uma SparkSession\n",
        "spark = SparkSession.builder.appName(\"ExercicioSpark\").getOrCreate()\n",
        "\n",
        "# Ler o arquivo CSV e criar um DataFrame\n",
        "df = spark.read.csv(\"dados.csv\", header=True, inferSchema=True)\n",
        "\n",
        "# Exibir as primeiras 5 linhas do DataFrame\n",
        "print(\"Primeiras 5 linhas do DataFrame:\")\n",
        "df.show(5)\n",
        "\n",
        "# Filtrar as pessoas com idade acima de 25\n",
        "print(\"Pessoas com idade acima de 25:\")\n",
        "df.filter(col(\"idade\") > 25).show()\n",
        "\n",
        "from pyspark.sql.functions import col, upper\n",
        "\n",
        "# Selecionar apenas as colunas \"nome\" e \"cidade\"\n",
        "df_selecionado = df.select(\"nome\", \"cidade\")\n",
        "print(\"Colunas selecionadas:\")\n",
        "df_selecionado.show()\n",
        "\n",
        "# Ordenar os dados pela coluna \"idade\" em ordem decrescente\n",
        "df_ordenado = df.orderBy(col(\"idade\").desc())\n",
        "print(\"Dados ordenados pela idade (decrescente):\")\n",
        "df_ordenado.show()\n",
        "\n",
        "# Converter os nomes para letras maiúsculas\n",
        "df_maiusculo = df.withColumn(\"nome\", upper(col(\"nome\")))\n",
        "print(\"Nomes em letras maiúsculas:\")\n",
        "df_maiusculo.show()\n",
        "\n",
        "from pyspark.sql.functions import avg, year\n",
        "\n",
        "# Calcular a idade média das pessoas no DataFrame\n",
        "idade_media = df.agg(avg(\"idade\").alias(\"idade_media\"))\n",
        "print(\"Idade média das pessoas:\")\n",
        "idade_media.show()\n",
        "\n",
        "# Contar o número de pessoas por cidade\n",
        "pessoas_por_cidade = df.groupBy(\"cidade\").count()\n",
        "print(\"Número de pessoas por cidade:\")\n",
        "pessoas_por_cidade.show()\n",
        "\n",
        "# Registrar o DataFrame como uma tabela temporária\n",
        "df.createOrReplaceTempView(\"tabela_pessoas\")\n",
        "\n",
        "# Consulta SQL para selecionar pessoas de uma cidade específica\n",
        "cidade_especifica = \"São Paulo\"\n",
        "consulta_cidade = f\"SELECT * FROM tabela_pessoas WHERE cidade = '{cidade_especifica}'\"\n",
        "pessoas_na_cidade = spark.sql(consulta_cidade)\n",
        "print(f\"Pessoas que moram na cidade '{cidade_especifica}':\")\n",
        "pessoas_na_cidade.show()\n",
        "\n",
        "# Consulta SQL para calcular a soma das idades\n",
        "consulta_soma_idades = \"SELECT SUM(idade) AS soma_das_idades FROM tabela_pessoas\"\n",
        "soma_idades = spark.sql(consulta_soma_idades)\n",
        "print(\"Soma das idades:\")\n",
        "soma_idades.show()\n",
        "\n",
        "\n",
        "\n",
        "\n"
      ],
      "metadata": {
        "colab": {
          "base_uri": "https://localhost:8080/"
        },
        "id": "UfyUVkPxfLNT",
        "outputId": "79c35d3b-5cbc-4874-b148-b2bb9e4df704"
      },
      "execution_count": 14,
      "outputs": [
        {
          "output_type": "stream",
          "name": "stdout",
          "text": [
            "Primeiras 5 linhas do DataFrame:\n",
            "+-----+-----+--------------+\n",
            "| nome|idade|        cidade|\n",
            "+-----+-----+--------------+\n",
            "| João|   30|     São Paulo|\n",
            "|Maria|   25|Rio de Janeiro|\n",
            "|Pedro|   35|Belo Horizonte|\n",
            "|  Ana|   28|      Salvador|\n",
            "|Lucas|   40|      Curitiba|\n",
            "+-----+-----+--------------+\n",
            "\n",
            "Pessoas com idade acima de 25:\n",
            "+-----+-----+--------------+\n",
            "| nome|idade|        cidade|\n",
            "+-----+-----+--------------+\n",
            "| João|   30|     São Paulo|\n",
            "|Pedro|   35|Belo Horizonte|\n",
            "|  Ana|   28|      Salvador|\n",
            "|Lucas|   40|      Curitiba|\n",
            "+-----+-----+--------------+\n",
            "\n",
            "Colunas selecionadas:\n",
            "+-----+--------------+\n",
            "| nome|        cidade|\n",
            "+-----+--------------+\n",
            "| João|     São Paulo|\n",
            "|Maria|Rio de Janeiro|\n",
            "|Pedro|Belo Horizonte|\n",
            "|  Ana|      Salvador|\n",
            "|Lucas|      Curitiba|\n",
            "+-----+--------------+\n",
            "\n",
            "Dados ordenados pela idade (decrescente):\n",
            "+-----+-----+--------------+\n",
            "| nome|idade|        cidade|\n",
            "+-----+-----+--------------+\n",
            "|Lucas|   40|      Curitiba|\n",
            "|Pedro|   35|Belo Horizonte|\n",
            "| João|   30|     São Paulo|\n",
            "|  Ana|   28|      Salvador|\n",
            "|Maria|   25|Rio de Janeiro|\n",
            "+-----+-----+--------------+\n",
            "\n",
            "Nomes em letras maiúsculas:\n",
            "+-----+-----+--------------+\n",
            "| nome|idade|        cidade|\n",
            "+-----+-----+--------------+\n",
            "| JOÃO|   30|     São Paulo|\n",
            "|MARIA|   25|Rio de Janeiro|\n",
            "|PEDRO|   35|Belo Horizonte|\n",
            "|  ANA|   28|      Salvador|\n",
            "|LUCAS|   40|      Curitiba|\n",
            "+-----+-----+--------------+\n",
            "\n",
            "Idade média das pessoas:\n",
            "+-----------+\n",
            "|idade_media|\n",
            "+-----------+\n",
            "|       31.6|\n",
            "+-----------+\n",
            "\n",
            "Número de pessoas por cidade:\n",
            "+--------------+-----+\n",
            "|        cidade|count|\n",
            "+--------------+-----+\n",
            "|      Curitiba|    1|\n",
            "|Belo Horizonte|    1|\n",
            "|      Salvador|    1|\n",
            "|     São Paulo|    1|\n",
            "|Rio de Janeiro|    1|\n",
            "+--------------+-----+\n",
            "\n",
            "Pessoas que moram na cidade 'São Paulo':\n",
            "+----+-----+---------+\n",
            "|nome|idade|   cidade|\n",
            "+----+-----+---------+\n",
            "|João|   30|São Paulo|\n",
            "+----+-----+---------+\n",
            "\n",
            "Soma das idades:\n",
            "+---------------+\n",
            "|soma_das_idades|\n",
            "+---------------+\n",
            "|            158|\n",
            "+---------------+\n",
            "\n"
          ]
        }
      ]
    },
    {
      "cell_type": "code",
      "source": [
        "from pyspark.sql import SparkSession\n",
        "from pyspark.sql.functions import col, year\n",
        "\n",
        "# 1. Create SparkSession\n",
        "spark = SparkSession.builder.appName(\"ExercicioSpark\").getOrCreate()\n",
        "\n",
        "# 2. Read from the CSV file\n",
        "df_vendas = spark.read.csv(\"vendas.csv\", header=True, inferSchema=True)\n",
        "\n",
        "# 3. Extrair o ano da data\n",
        "df_vendas_anuais = df_vendas.withColumn(\"ano\", year(col(\"data\")))\n",
        "print(\"Dados de vendas com ano extraído:\")\n",
        "df_vendas_anuais.show()\n",
        "\n",
        "# 4. Calcular total de vendas por ano\n",
        "total_vendas_anuais = df_vendas_anuais.groupBy(\"ano\").agg({\"valor\": \"sum\"})\n",
        "print(\"Total de vendas anuais:\")\n",
        "total_vendas_anuais.show()"
      ],
      "metadata": {
        "colab": {
          "base_uri": "https://localhost:8080/"
        },
        "id": "p0RFlXjsGEWp",
        "outputId": "511f5583-338d-4744-9b1a-96a0b0fc3a5d"
      },
      "execution_count": 19,
      "outputs": [
        {
          "output_type": "stream",
          "name": "stdout",
          "text": [
            "Dados de vendas com ano extraído:\n",
            "+-------+-----+----------+----+\n",
            "|produto|valor|      data| ano|\n",
            "+-------+-----+----------+----+\n",
            "| Venda1|  100|2022-01-15|2022|\n",
            "| Venda2|  200|2022-06-20|2022|\n",
            "| Venda3|  150|2023-03-10|2023|\n",
            "| Venda4|  300|2023-11-05|2023|\n",
            "+-------+-----+----------+----+\n",
            "\n",
            "Total de vendas anuais:\n",
            "+----+----------+\n",
            "| ano|sum(valor)|\n",
            "+----+----------+\n",
            "|2023|       450|\n",
            "|2022|       300|\n",
            "+----+----------+\n",
            "\n"
          ]
        }
      ]
    }
  ]
}